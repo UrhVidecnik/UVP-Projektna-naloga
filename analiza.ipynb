{
 "cells": [
  {
   "cell_type": "markdown",
   "metadata": {},
   "source": [
    "# Analiza Svetovne lestvice FIFA"
   ]
  },
  {
   "cell_type": "code",
   "execution_count": 69,
   "metadata": {},
   "outputs": [],
   "source": [
    "# Najprej naložim vse pakete\n",
    "import pandas as pd\n",
    "\n",
    "reprezentance = pd.read_csv('reprezentance.csv', index_col='Ranking države')\n",
    "\n",
    "# največ 20 vrstic se vedno izpiše\n",
    "pd.options.display.max_rows = 20\n",
    "\n",
    "# omogoči celotno širino stolpca\n",
    "pd.set_option('display.max_colwidth', None)  \n",
    "\n",
    "import numpy as np\n",
    "import matplotlib.pyplot as plt"
   ]
  },
  {
   "cell_type": "code",
   "execution_count": 70,
   "metadata": {},
   "outputs": [
    {
     "data": {
      "text/html": [
       "<div>\n",
       "<style scoped>\n",
       "    .dataframe tbody tr th:only-of-type {\n",
       "        vertical-align: middle;\n",
       "    }\n",
       "\n",
       "    .dataframe tbody tr th {\n",
       "        vertical-align: top;\n",
       "    }\n",
       "\n",
       "    .dataframe thead th {\n",
       "        text-align: right;\n",
       "    }\n",
       "</style>\n",
       "<table border=\"1\" class=\"dataframe\">\n",
       "  <thead>\n",
       "    <tr style=\"text-align: right;\">\n",
       "      <th></th>\n",
       "      <th>Narod</th>\n",
       "      <th>Število članov</th>\n",
       "      <th>Povprečna starost</th>\n",
       "      <th>Skupna vrednost</th>\n",
       "      <th>Točke</th>\n",
       "    </tr>\n",
       "    <tr>\n",
       "      <th>Ranking države</th>\n",
       "      <th></th>\n",
       "      <th></th>\n",
       "      <th></th>\n",
       "      <th></th>\n",
       "      <th></th>\n",
       "    </tr>\n",
       "  </thead>\n",
       "  <tbody>\n",
       "    <tr>\n",
       "      <th>1</th>\n",
       "      <td>Argentina</td>\n",
       "      <td>24</td>\n",
       "      <td>27.8</td>\n",
       "      <td>€730.00m</td>\n",
       "      <td>1889</td>\n",
       "    </tr>\n",
       "    <tr>\n",
       "      <th>2</th>\n",
       "      <td>France</td>\n",
       "      <td>23</td>\n",
       "      <td>26.0</td>\n",
       "      <td>€1.06bn</td>\n",
       "      <td>1852</td>\n",
       "    </tr>\n",
       "    <tr>\n",
       "      <th>3</th>\n",
       "      <td>Spain</td>\n",
       "      <td>23</td>\n",
       "      <td>26.7</td>\n",
       "      <td>€750.00m</td>\n",
       "      <td>1836</td>\n",
       "    </tr>\n",
       "    <tr>\n",
       "      <th>4</th>\n",
       "      <td>England</td>\n",
       "      <td>24</td>\n",
       "      <td>26.0</td>\n",
       "      <td>€1.46bn</td>\n",
       "      <td>1817</td>\n",
       "    </tr>\n",
       "    <tr>\n",
       "      <th>5</th>\n",
       "      <td>Brazil</td>\n",
       "      <td>23</td>\n",
       "      <td>26.5</td>\n",
       "      <td>€770.50m</td>\n",
       "      <td>1772</td>\n",
       "    </tr>\n",
       "    <tr>\n",
       "      <th>...</th>\n",
       "      <td>...</td>\n",
       "      <td>...</td>\n",
       "      <td>...</td>\n",
       "      <td>...</td>\n",
       "      <td>...</td>\n",
       "    </tr>\n",
       "    <tr>\n",
       "      <th>206</th>\n",
       "      <td>Turks-Caicos</td>\n",
       "      <td>16</td>\n",
       "      <td>21.2</td>\n",
       "      <td>€100k</td>\n",
       "      <td>803</td>\n",
       "    </tr>\n",
       "    <tr>\n",
       "      <th>207</th>\n",
       "      <td>US Virgin</td>\n",
       "      <td>21</td>\n",
       "      <td>24.3</td>\n",
       "      <td>-</td>\n",
       "      <td>792</td>\n",
       "    </tr>\n",
       "    <tr>\n",
       "      <th>208</th>\n",
       "      <td>B. Virgin</td>\n",
       "      <td>20</td>\n",
       "      <td>21.7</td>\n",
       "      <td>-</td>\n",
       "      <td>791</td>\n",
       "    </tr>\n",
       "    <tr>\n",
       "      <th>209</th>\n",
       "      <td>Anguilla</td>\n",
       "      <td>22</td>\n",
       "      <td>23.9</td>\n",
       "      <td>-</td>\n",
       "      <td>782</td>\n",
       "    </tr>\n",
       "    <tr>\n",
       "      <th>210</th>\n",
       "      <td>San Marino</td>\n",
       "      <td>27</td>\n",
       "      <td>24.5</td>\n",
       "      <td>€1.08m</td>\n",
       "      <td>746</td>\n",
       "    </tr>\n",
       "  </tbody>\n",
       "</table>\n",
       "<p>210 rows × 5 columns</p>\n",
       "</div>"
      ],
      "text/plain": [
       "                       Narod  Število članov  Povprečna starost  \\\n",
       "Ranking države                                                    \n",
       "1                  Argentina              24               27.8   \n",
       "2                     France              23               26.0   \n",
       "3                      Spain              23               26.7   \n",
       "4                    England              24               26.0   \n",
       "5                     Brazil              23               26.5   \n",
       "...                      ...             ...                ...   \n",
       "206             Turks-Caicos              16               21.2   \n",
       "207                US Virgin              21               24.3   \n",
       "208                B. Virgin              20               21.7   \n",
       "209                 Anguilla              22               23.9   \n",
       "210               San Marino              27               24.5   \n",
       "\n",
       "               Skupna vrednost  Točke  \n",
       "Ranking države                         \n",
       "1                     €730.00m   1889  \n",
       "2                      €1.06bn   1852  \n",
       "3                     €750.00m   1836  \n",
       "4                      €1.46bn   1817  \n",
       "5                     €770.50m   1772  \n",
       "...                        ...    ...  \n",
       "206                      €100k    803  \n",
       "207                          -    792  \n",
       "208                          -    791  \n",
       "209                          -    782  \n",
       "210                     €1.08m    746  \n",
       "\n",
       "[210 rows x 5 columns]"
      ]
     },
     "execution_count": 70,
     "metadata": {},
     "output_type": "execute_result"
    }
   ],
   "source": [
    "reprezentance"
   ]
  },
  {
   "cell_type": "code",
   "execution_count": 71,
   "metadata": {},
   "outputs": [
    {
     "name": "stdout",
     "output_type": "stream",
     "text": [
      "Podatki za trenutno vodilno reprezentanco:\n",
      "- Narod: Argentina\n",
      "- Število članov: 24\n",
      "- Povprečna starost: 27.8\n",
      "- Skupna vrednost: €730.00m\n",
      "- Točke: 1889\n"
     ]
    }
   ],
   "source": [
    "najboljsa = reprezentance.iloc[0]  # Uporabimo iloc[0], da izberemo prvo vrstico\n",
    "\n",
    "# Izpis podatkov za prvo reprezentanco\n",
    "print(\"Podatki za trenutno vodilno reprezentanco:\")\n",
    "print(f\"- Narod: {najboljsa['Narod']}\")\n",
    "print(f\"- Število članov: {najboljsa['Število članov']}\")\n",
    "print(f\"- Povprečna starost: {najboljsa['Povprečna starost']}\")\n",
    "print(f\"- Skupna vrednost: {najboljsa['Skupna vrednost']}\")\n",
    "print(f\"- Točke: {najboljsa['Točke']}\")"
   ]
  },
  {
   "cell_type": "code",
   "execution_count": 72,
   "metadata": {},
   "outputs": [
    {
     "name": "stdout",
     "output_type": "stream",
     "text": [
      "Podatki za najslabšo reprezentanco:\n",
      "- Narod: San Marino\n",
      "- Število članov: 27\n",
      "- Povprečna starost: 24.5\n",
      "- Skupna vrednost: €1.08m\n",
      "- Točke: 746\n"
     ]
    }
   ],
   "source": [
    "najslabsa = reprezentance.iloc[-1] # Uporabimo iloc[-1], da izberemo prvo vrstico\n",
    "\n",
    "\n",
    "# Izpis podatkov za najslabšo reprezentanco\n",
    "print(\"Podatki za najslabšo reprezentanco:\")\n",
    "print(f\"- Narod: {najslabsa['Narod']}\")\n",
    "print(f\"- Število članov: {najslabsa['Število članov']}\")\n",
    "print(f\"- Povprečna starost: {najslabsa['Povprečna starost']}\")\n",
    "print(f\"- Skupna vrednost: {najslabsa['Skupna vrednost']}\")\n",
    "print(f\"- Točke: {najslabsa['Točke']}\")"
   ]
  },
  {
   "cell_type": "code",
   "execution_count": 73,
   "metadata": {},
   "outputs": [
    {
     "name": "stdout",
     "output_type": "stream",
     "text": [
      "Podatki za reprezentanco Slovenije:\n",
      "- Ranking države: 51\n",
      "- Narod: Slovenia\n",
      "- Število članov: 23\n",
      "- Povprečna starost: 27.8\n",
      "- Skupna vrednost: €126.75m\n",
      "- Točke: 1463\n"
     ]
    }
   ],
   "source": [
    "slovenija = reprezentance[reprezentance['Narod'] == 'Slovenia']\n",
    "\n",
    "podatki_slovenije = slovenija.iloc[0]\n",
    "\n",
    "ranking_slovenija = slovenija.index[0]  # Dobimo ranking iz indeksa\n",
    "\n",
    "print(\"Podatki za reprezentanco Slovenije:\")\n",
    "print(f\"- Ranking države: {ranking_slovenija}\")\n",
    "print(f\"- Narod: {slovenija.iloc[0]['Narod']}\")\n",
    "print(f\"- Število članov: {slovenija.iloc[0]['Število članov']}\")\n",
    "print(f\"- Povprečna starost: {slovenija.iloc[0]['Povprečna starost']}\")\n",
    "print(f\"- Skupna vrednost: {slovenija.iloc[0]['Skupna vrednost']}\")\n",
    "print(f\"- Točke: {slovenija.iloc[0]['Točke']}\")"
   ]
  },
  {
   "cell_type": "code",
   "execution_count": 78,
   "metadata": {},
   "outputs": [
    {
     "data": {
      "image/png": "[encoded data removed]",
      "text/plain": [
       "<Figure size 500x500 with 1 Axes>"
      ]
     },
     "metadata": {},
     "output_type": "display_data"
    }
   ],
   "source": [
    "# Ustvari seznam imen reprezentanc in njihovih točk\n",
    "drzave = [najboljsa['Narod'], najslabsa['Narod'], podatki_slovenije['Narod']]\n",
    "tocke = [najboljsa['Točke'], najslabsa['Točke'], podatki_slovenije['Točke']]\n",
    "\n",
    "# Nariši graf\n",
    "plt.figure(figsize=(5, 5))\n",
    "plt.bar(drzave, tocke, color=['blue', 'black', 'green'])\n",
    "\n",
    "# Nastavitve grafa\n",
    "plt.ylabel('Točke')\n",
    "plt.title('Primerjava Slovenije z najboljšo in najslabšo repezentanco po točkah')\n",
    "plt.tight_layout()\n",
    "plt.show()\n"
   ]
  }
 ],
 "metadata": {
  "kernelspec": {
   "display_name": "Python 3",
   "language": "python",
   "name": "python3"
  },
  "language_info": {
   "codemirror_mode": {
    "name": "ipython",
    "version": 3
   },
   "file_extension": ".py",
   "mimetype": "text/x-python",
   "name": "python",
   "nbconvert_exporter": "python",
   "pygments_lexer": "ipython3",
   "version": "3.12.7"
  }
 },
 "nbformat": 4,
 "nbformat_minor": 2
}
